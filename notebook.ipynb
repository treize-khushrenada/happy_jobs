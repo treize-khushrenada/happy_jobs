{
 "cells": [
  {
   "cell_type": "code",
   "execution_count": 1,
   "metadata": {},
   "outputs": [],
   "source": [
    "import praw\n",
    "import os\n",
    "from dotenv import load_dotenv\n",
    "\n",
    "reddit_client_id = os.getenv('REDDIT_CLIENT_ID')\n",
    "reddit_client_secret = os.getenv('REDDIT_CLIENT_SECRET')\n",
    "\n",
    "reddit = praw.Reddit(\n",
    "    client_id=reddit_client_id,\n",
    "    client_secret=reddit_client_secret,\n",
    "    user_agent=\"testing_v_v1\"\n",
    ")\n"
   ]
  },
  {
   "cell_type": "code",
   "execution_count": 2,
   "metadata": {},
   "outputs": [
    {
     "name": "stdout",
     "output_type": "stream",
     "text": [
      "Title: basic scrip to download Google Doc\n",
      "Hmm perhaps try using export csv mode. \n",
      "\n",
      "    url = \"https://docs.google.com/spreadsheets/d/*************/export?gid=*********&format=csv\"\n",
      "    tables = pd.read_csv(url)\n",
      "\n",
      "(note the changes I made to your URL, changing \"edit\" to \"export\" and adding the \"format=csv\").\n",
      "Title: FastAPI endpoint not showing.\n",
      "Title: Help in starter game\n",
      "> is it just impossible to run different lines at once?\n",
      "\n",
      "If you're not using a GUI framework or something like Pygame, you probably need to implement some asynchronous processing via the asyncio or multiprocessing libraries.\n",
      "Look into the threading library.\n",
      "Title: Feedback required on Self Study Road Map\n",
      "Way too many books, many about the same topics, not nearly enough practice. \n",
      "\n",
      "Just start learning\n",
      "Pick one book from each of those blocks of books, and this will be a much more reasonable plan. \n",
      "\n",
      "But also, it's pretty suspect that you're trying to plan out 3-5 years of learning materials without even starting. It would be better to think about the next 3-5 weeks, and then actually start learning. Your plans and goals will change over time.\n",
      "Title: Control theory, how to start?\n",
      "Obligatory security nagging:\n",
      "\n",
      "Is in a production environment, and if so, is this a PLC you are authorized to access this way? If this is for learning in a lab or on your own hardware, then have at it. But if you are doing this at an actual factory or plant and starting from \"how to install Python\", then I would take a step back, and make sure you know what you're doing. End of security nagging.\n",
      "\n",
      "What PLC brand? They vary a lot. Best place to start would be the vendor's documentation. Python has a pymodbus package that can do RTU or TCP messaging. There are packages for OPC UA as well. You should be able to just search them. It doesn't matter how you install Python, just do it your favorite way. If you don't have a favorite way, I'd recommend the official installer for Windows, and whatever is in the distribution's native repository for Linux. Then learn how to work in virtual environments, which is where you'd install your dependencies.\n",
      "\n",
      "If you're someone who already understands Modbus and OPC but not Python, you could consider something like Node Red to poll the PLC data periodically and stuff if into a more friendly environment (like a database). That would require less boilerplate.\n",
      "Title: Advise needed. I am just starting. Is Programming with Mosh a good place to start?\n",
      "If you like him, then yes it's a great place to start. It really doesn't matter how,  just get started\n",
      "If he motivates you, go for it. \n",
      "\n",
      "The most important thing, however, is to just do it. Just start programming. Yes, you’re going to get confused and frustrated on a regular basis but the only way out is through. It happens to everyone.\n",
      "Title: Does anyone have any GIMP python experience?\n",
      "Learn Python user with no actual knowledge or Python or desire to learn got GPT to spout out some garbage and then expects us to troubleshoot for them?\n",
      "\n",
      "Standard stuff.\n",
      "Fix your indentation. Python uses indentation to denote blocks of code and requires it to be correct. The error should tell you where it is failing.\n",
      "I’m starting to wonder if ChatGPT just posts on Reddit and then it sends back the fixed code to the user.\n",
      "Title: 4x V100-16gb SXM2 Setup Pytorch and ComfyUI\n",
      "Title: PLEASE HELP!!!!! What solution would you recommend\n",
      "What have you tried so far? This isn't a \"do my assignment for me\" sub, but people may help you with problems that you are encountering.\n",
      "I'd start by reading the *three* other threads in this subreddit about this exact problem:\n",
      "\n",
      "https://www.reddit.com/r/learnpython/comments/1evo1zn/im_feeling_defeated/\n",
      "\n",
      "https://www.reddit.com/r/learnpython/comments/1is75a4/given_a_coding_challenge_which_looks_rather/\n",
      "\n",
      "https://www.reddit.com/r/learnpython/comments/1hcuzl3/need_a_crash_course/\n",
      "\n",
      "And then get back to us if you have further questions.\n",
      "Title: First Project in progress. https://github.com/MayorDobe/Simple_Image_Classifier.git\n",
      "Don't check your `__pycache__` into your repo.\n"
     ]
    }
   ],
   "source": [
    "\n",
    "# Select Subreddit and Fetch Threads\n",
    "subreddit = reddit.subreddit(\"learnpython\")\n",
    "\n",
    "# Fetch the last 10 threads (sorted by \"new\")\n",
    "for submission in subreddit.new(limit=10):\n",
    "    print(f\"Title: {submission.title}\")\n",
    "    # print(f\"Score: {submission.score}\")\n",
    "    # print(f\"Author: {submission.author}\")\n",
    "    # print(f\"Created UTC: {submission.created_utc}\")\n",
    "    # print(f\"Content: {submission.selftext}\")  # Shows the body of the post\n",
    "    # print(f\"URL: {submission.url}\")\n",
    "    # print(\"-\" * 50)\n",
    "    for comment in submission.comments:\n",
    "        print(comment.body)\n"
   ]
  }
 ],
 "metadata": {
  "kernelspec": {
   "display_name": "Python 3",
   "language": "python",
   "name": "python3"
  },
  "language_info": {
   "codemirror_mode": {
    "name": "ipython",
    "version": 3
   },
   "file_extension": ".py",
   "mimetype": "text/x-python",
   "name": "python",
   "nbconvert_exporter": "python",
   "pygments_lexer": "ipython3",
   "version": "3.12.9"
  }
 },
 "nbformat": 4,
 "nbformat_minor": 2
}
